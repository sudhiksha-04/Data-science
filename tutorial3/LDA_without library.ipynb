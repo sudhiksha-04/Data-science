{
 "cells": [
  {
   "cell_type": "code",
   "execution_count": 22,
   "id": "8342f4c6-8d1e-4f0e-ab16-78d4365130ca",
   "metadata": {},
   "outputs": [],
   "source": [
    "def mean_vector(X):\n",
    "    rows, cols = len(X), len(X[0])\n",
    "    mean = [0] * cols\n",
    "    for i in range(rows):\n",
    "        for j in range(cols):\n",
    "            mean[j] += X[i][j]\n",
    "    return [m / rows for m in mean]\n"
   ]
  },
  {
   "cell_type": "code",
   "execution_count": 24,
   "id": "eaf62844-3bf4-4260-a7e6-be4bb18069ef",
   "metadata": {},
   "outputs": [],
   "source": [
    "def transpose(matrix):\n",
    "    rows, cols = len(matrix), len(matrix[0])\n",
    "    return [[matrix[j][i] for j in range(rows)] for i in range(cols)]\n",
    "\n",
    "def matrix_multiply(A, B):\n",
    "    rows_A, cols_A = len(A), len(A[0])\n",
    "    rows_B, cols_B = len(B), len(B[0])\n",
    "    result = [[0] * cols_B for _ in range(rows_A)]\n",
    "    for i in range(rows_A):\n",
    "        for j in range(cols_B):\n",
    "            for k in range(cols_A):\n",
    "                result[i][j] += A[i][k] * B[k][j]\n",
    "    return result\n"
   ]
  },
  {
   "cell_type": "code",
   "execution_count": 26,
   "id": "cdb94120-d40a-4ad2-9ae9-9dbdd9f2cf2f",
   "metadata": {},
   "outputs": [],
   "source": [
    "def compute_scatter_matrices(X, y):\n",
    "    classes = set(y)\n",
    "    n_features = len(X[0])\n",
    "    S_W = [[1e-6 if i == j else 0 for j in range(n_features)] for i in range(n_features)]\n",
    "    S_B = [[0] * n_features for _ in range(n_features)]\n",
    "    overall_mean = mean_vector(X)\n",
    "    \n",
    "    for cls in classes:\n",
    "        X_class = [X[i] for i in range(len(y)) if y[i] == cls]\n",
    "        mean_vec = mean_vector(X_class)\n",
    "        for row in X_class:\n",
    "            diff = [[row[i] - mean_vec[i]] for i in range(n_features)]\n",
    "            scatter_temp = matrix_multiply(diff, transpose(diff))\n",
    "            S_W = [[S_W[i][j] + scatter_temp[i][j] for j in range(n_features)] for i in range(n_features)]\n",
    "        \n",
    "        mean_diff = [[mean_vec[i] - overall_mean[i]] for i in range(n_features)]\n",
    "        scatter_B = matrix_multiply(mean_diff, transpose(mean_diff))\n",
    "        S_B = [[S_B[i][j] + len(X_class) * scatter_B[i][j] for j in range(n_features)] for i in range(n_features)]\n",
    "    \n",
    "    return S_W, S_B"
   ]
  },
  {
   "cell_type": "code",
   "execution_count": 28,
   "id": "5b3af6be-0d4c-4aee-954d-3479bbd3abf3",
   "metadata": {},
   "outputs": [],
   "source": [
    "def inverse_matrix(matrix):\n",
    "    size = len(matrix)\n",
    "    identity = [[1 if i == j else 0 for j in range(size)] for i in range(size)]\n",
    "    for i in range(size):\n",
    "        if matrix[i][i] == 0:\n",
    "            for k in range(i + 1, size):\n",
    "                if matrix[k][i] != 0:\n",
    "                    matrix[i], matrix[k] = matrix[k], matrix[i]\n",
    "                    identity[i], identity[k] = identity[k], identity[i]\n",
    "                    break\n",
    "        factor = matrix[i][i]\n",
    "        for j in range(size):\n",
    "            matrix[i][j] /= factor\n",
    "            identity[i][j] /= factor\n",
    "        for k in range(size):\n",
    "            if k != i:\n",
    "                factor = matrix[k][i]\n",
    "                for j in range(size):\n",
    "                    matrix[k][j] -= factor * matrix[i][j]\n",
    "                    identity[k][j] -= factor * identity[i][j]\n",
    "    return identity"
   ]
  },
  {
   "cell_type": "code",
   "execution_count": 30,
   "id": "07a0e257-7e08-4011-b511-bd05899637bf",
   "metadata": {},
   "outputs": [
    {
     "name": "stdout",
     "output_type": "stream",
     "text": [
      "Transformed data: [[3000016.8746119887], [3000023.624611145], [3000030.374610301], [6000047.24922229], [6000053.999221448], [6000060.749220602]]\n"
     ]
    }
   ],
   "source": [
    "def lda_fit(X, y, n_components):\n",
    "    S_W, S_B = compute_scatter_matrices(X, y)\n",
    "    S_W_inv = inverse_matrix(S_W)\n",
    "    eig_matrix = matrix_multiply(S_W_inv, S_B)\n",
    "    eigvecs = transpose(eig_matrix)[:n_components]\n",
    "    return transpose(eigvecs)\n",
    "\n",
    "def lda_transform(X, W):\n",
    "    return matrix_multiply(X, W)\n",
    "\n",
    "# Example usage\n",
    "if __name__ == \"__main__\":\n",
    "    X = [[2, 3], [3, 4], [4, 5], [6, 8], [7, 9], [8, 10]]\n",
    "    y = [0, 0, 0, 1, 1, 1]\n",
    "    W = lda_fit(X, y, n_components=1)\n",
    "    X_lda = lda_transform(X, W)\n",
    "    print(\"Transformed data:\", X_lda)"
   ]
  },
  {
   "cell_type": "code",
   "execution_count": null,
   "id": "89f451a4-58be-4be4-9115-fbd313e334cc",
   "metadata": {},
   "outputs": [],
   "source": []
  }
 ],
 "metadata": {
  "kernelspec": {
   "display_name": "Python 3 (ipykernel)",
   "language": "python",
   "name": "python3"
  },
  "language_info": {
   "codemirror_mode": {
    "name": "ipython",
    "version": 3
   },
   "file_extension": ".py",
   "mimetype": "text/x-python",
   "name": "python",
   "nbconvert_exporter": "python",
   "pygments_lexer": "ipython3",
   "version": "3.12.7"
  }
 },
 "nbformat": 4,
 "nbformat_minor": 5
}
